{
 "cells": [
  {
   "cell_type": "markdown",
   "metadata": {},
   "source": [
    "This notebook contains code for getting the data (i.e translations) for this analysis. If you want to work with different translations of the DDJ check out [Terebes Online](https://terebess.hu/english/tao/_index.html), which you can scrape similar to what I did here. "
   ]
  },
  {
   "cell_type": "markdown",
   "metadata": {},
   "source": [
    "To get 170 translations of the first chapter of the DDJ save [this page](http://www.bopsecrets.org/gateway/passages/tao-te-ching.htm) as html in the `webpages/` directory. You can get the DC Lau translation the same way from [this page](https://terebess.hu/english/tao/lau.html). You can get 10 additional complete translations from [this page](https://ttc.tasuki.org/display:Code:gff,sm,vhm,sasl,dl,jhmd,jc,dh,rh,as). For this page you can inspect source and manually get html code. Saving directly as html does not work. "
   ]
  },
  {
   "cell_type": "code",
   "execution_count": 42,
   "metadata": {},
   "outputs": [],
   "source": [
    "import os\n",
    "import pickle\n",
    "from pathlib import Path\n",
    "\n",
    "import urllib\n",
    "from bs4 import BeautifulSoup\n",
    "\n",
    "webpage_dir = Path('webpages/')"
   ]
  },
  {
   "cell_type": "markdown",
   "metadata": {},
   "source": [
    "Let's start with the 170 translations of chapter 1"
   ]
  },
  {
   "cell_type": "code",
   "execution_count": 43,
   "metadata": {},
   "outputs": [],
   "source": [
    "html = open(webpage_dir.joinpath('intros.html'))\n",
    "soup = BeautifulSoup(html, 'lxml')\n",
    "chapters = []\n",
    "translators = []\n",
    "for block in soup.find_all('blockquote')[2:-4]:\n",
    "    lines = list(block.stripped_strings)\n",
    "    lines = [l.replace('\\n', ' ') for l in lines]\n",
    "    \n",
    "    if len(lines) > 1:\n",
    "        t = lines[-1]\n",
    "        # Found translator line\n",
    "        if t.count('by') >= 1:\n",
    "            translators.append(t)\n",
    "            chapters.append(\" \".join(lines[:-1]))\n",
    "\n",
    "# Do some cleaning\n",
    "authors = list(map(lambda t: t.split('by')[1].split('(')[0].strip(), translators))\n",
    "\n",
    "# Sanity Check\n",
    "assert(len(chapters) == len(authors))"
   ]
  },
  {
   "cell_type": "code",
   "execution_count": 44,
   "metadata": {
    "scrolled": true
   },
   "outputs": [
    {
     "data": {
      "text/plain": [
       "['The tau (reason) which can be tau -ed (reasoned) is not the Eternal Tau (Reason).  The name which can be named is not the Eternal Name. Non-existence is named the Antecedent of heaven and earth; and Existence is  named the Mother of all things. In eternal non-existence, therefore, man seeks  to pierce the primordial mystery; and, in eternal existence, to behold the  issues of the Universe. But these two are one and the same, and differ only in  name. This sameness (or existence and non-existence) I call the abyss \\x97 the abyss of  abysses \\x97 the gate of all mystery.',\n",
       " 'The TAO, or Principle of Nature, may be discussed [by all]; it is  not the popular or common Tao. Its Name may be named [ i.e. , the TAO may receive a  designation, though of itself it has none]; but it is not an ordinary name, [or  name in the usual sense of the word, for it is a presentment or ειδωλον of the  Infinite]. Its nameless period was that which preceded the birth of the Universe, In being spoken of by name, it is as the Progenitrix of All Things. It is therefore in habitual passionlessness [the Quiescent phase of TAO]  that its mystery may be scanned; and in habitual desire [the Active phase of TAO]  that its developments may be perceived. These two conditions, the Active and the Quiescent, alike proceed [from TAO];  it is only in name that they differ. Both may be called profundities; and the  depth of profundity is the gate of every mystery.',\n",
       " 'The Tao that can be trodden is not the enduring and unchanging Tao. The name that can be named is not the enduring and unchanging name. (Conceived of as) having no name, it is the Originator of heaven and earth; (conceived of as) having a name, it is the Mother of all things. Always without desire we must be found, If its deep mystery we would sound; But if desire always within us be, Its outer fringe is all that we shall see. Under these two aspects, it is really the same; but as development takes place,  it receives the different names. Together we call them the Mystery. Where the  Mystery is the deepest is the gate of all that is subtle and wonderful.']"
      ]
     },
     "execution_count": 44,
     "metadata": {},
     "output_type": "execute_result"
    }
   ],
   "source": [
    "chapters[:3]"
   ]
  },
  {
   "cell_type": "code",
   "execution_count": 45,
   "metadata": {},
   "outputs": [
    {
     "data": {
      "text/plain": [
       "['John Chalmers', 'Frederick Henry Balfour', 'James Legge']"
      ]
     },
     "execution_count": 45,
     "metadata": {},
     "output_type": "execute_result"
    }
   ],
   "source": [
    "authors[:3]"
   ]
  },
  {
   "cell_type": "code",
   "execution_count": 46,
   "metadata": {},
   "outputs": [],
   "source": [
    "translations = {author:chapter for author, chapter in zip(authors, chapters)}\n",
    "with open('data/chapter1_translations', 'wb') as f:\n",
    "    pickle.dump(translations, f)"
   ]
  },
  {
   "cell_type": "markdown",
   "metadata": {},
   "source": [
    "Looks good! Now let's get the DC Lau translation"
   ]
  },
  {
   "cell_type": "code",
   "execution_count": 47,
   "metadata": {},
   "outputs": [],
   "source": [
    "html = open(webpage_dir.joinpath('DCLau_1963.html'))\n",
    "soup = BeautifulSoup(html, 'lxml')\n",
    "\n",
    "chapters = []\n",
    "for p in soup.find_all('p')[87:]:\n",
    "    lines = list(p.stripped_strings)\n",
    "    lines = [l.replace('\\n', \"\") for l in lines]\n",
    "    \n",
    "    if p.find('a') is not None:\n",
    "        # found start of new chapter\n",
    "        lines = [l for l in lines if not l.isdigit()]\n",
    "        chapters.append(lines)\n",
    "    else:\n",
    "        chapters[-1].extend(lines)"
   ]
  },
  {
   "cell_type": "code",
   "execution_count": 48,
   "metadata": {
    "scrolled": true
   },
   "outputs": [
    {
     "data": {
      "text/plain": [
       "[['The way that can be spoken of',\n",
       "  'Is not the constant way;',\n",
       "  'The name that can be named',\n",
       "  'Is not the constant name.',\n",
       "  'The  nameless was the beginning of heaven and earth;',\n",
       "  'The named was the mother of the myriad creatures.',\n",
       "  'Hence  always rid yourself of desires in order to observe its secrets;',\n",
       "  'But always allow yourself to have desires in order to observe its manifestations.',\n",
       "  'These  two are the same',\n",
       "  'But diverge in name as they issue forth.',\n",
       "  'Being the same they are called mysteries,',\n",
       "  'Mystery upon mystery -',\n",
       "  'The gateway of the manifold secrets.'],\n",
       " ['The whole world recognizes the beautiful as the beautiful, yet this is only  the ugly;',\n",
       "  'the whole world recognizes the good as the good, yet this is only the bad.',\n",
       "  'Thus  Something and Nothing produce each other;',\n",
       "  'The difficult and the easy complement each other;',\n",
       "  'The long and the short off-set each other;',\n",
       "  'The high and the low incline towards each other;',\n",
       "  'Note and sound harmonize with each other;',\n",
       "  'Before and after follow each other.',\n",
       "  'Therefore  the sage keeps to the deed that consists in taking no action and practises the  teaching that uses no words.',\n",
       "  'The  myriad creatures rise from it yet it claims no authority;',\n",
       "  'It gives them life yet claims no possession;',\n",
       "  'It benefits them yet exacts no gratitude;',\n",
       "  'It accomplishes its task yet lays claim to no merit.',\n",
       "  'It  is because it lays claim to no merit',\n",
       "  'That its merit never deserts it.'],\n",
       " ['Not to honor men of worth will keep the people from contention;',\n",
       "  'not to value goods which are hard to come by will keep them from theft;',\n",
       "  'not to display what is desirable will keep them from being unsettled of mind.',\n",
       "  'Therefore  in governing the people, the sage empties their minds but fills their bellies,  weakens their wills but strengthens their bones.',\n",
       "  'He always keeps them innocent of knowledge and free from desire, and ensures  that the clever never dare to act.',\n",
       "  'Do  that which consists in taking no action, and order will prevail.']]"
      ]
     },
     "execution_count": 48,
     "metadata": {},
     "output_type": "execute_result"
    }
   ],
   "source": [
    "chapters[:3]"
   ]
  },
  {
   "cell_type": "markdown",
   "metadata": {},
   "source": [
    "Awesome! now let's get 10 more complete translations"
   ]
  },
  {
   "cell_type": "code",
   "execution_count": 49,
   "metadata": {},
   "outputs": [],
   "source": [
    "html = open(webpage_dir.joinpath('comparisons.html'), encoding='utf8')\n",
    "soup = BeautifulSoup(html, 'lxml')\n",
    "\n",
    "authors = ['Feng_1972',\n",
    "           'Mitchel_1988',\n",
    "           'Hair_1990',\n",
    "           'Addis&Lombardo_1993',\n",
    "           'Lin_1994',\n",
    "           'McDonald_1996',\n",
    "           'Clatfelter_2000',\n",
    "           'Hinton_2002',\n",
    "           'Hogan_2004',\n",
    "           'Solska_2005']\n",
    "\n",
    "translations = {a:[] for a in authors}    "
   ]
  },
  {
   "cell_type": "code",
   "execution_count": 50,
   "metadata": {},
   "outputs": [],
   "source": [
    "num_authors = len(authors)\n",
    "author_ind = 0\n",
    "for chapter in soup.find_all('div', {\"class\": \"text ng-binding\"})[10:]:\n",
    "    lines = []\n",
    "    for c in list(chapter.children):\n",
    "        try:\n",
    "            lines.extend(list(c.stripped_strings))\n",
    "        except AttributeError:\n",
    "            continue\n",
    "        \n",
    "    translations[authors[author_ind % num_authors]].append(lines)\n",
    "    author_ind += 1"
   ]
  },
  {
   "cell_type": "code",
   "execution_count": 51,
   "metadata": {},
   "outputs": [],
   "source": [
    "# Add DC Lau translation\n",
    "translations['DCLau_1963'] = chapters"
   ]
  },
  {
   "cell_type": "code",
   "execution_count": 52,
   "metadata": {},
   "outputs": [
    {
     "data": {
      "text/plain": [
       "[81, 81, 81, 81, 81, 81, 81, 81, 81, 81, 81]"
      ]
     },
     "execution_count": 52,
     "metadata": {},
     "output_type": "execute_result"
    }
   ],
   "source": [
    "# Check number of chapters\n",
    "[len(translation) for translation in translations.values()]"
   ]
  },
  {
   "cell_type": "code",
   "execution_count": 53,
   "metadata": {
    "scrolled": true
   },
   "outputs": [
    {
     "data": {
      "text/plain": [
       "[['The tao that can be told',\n",
       "  'is not the eternal Tao',\n",
       "  'The name that can be named',\n",
       "  'is not the eternal Name.',\n",
       "  'The unnamable is the eternally real.',\n",
       "  'Naming is the origin',\n",
       "  'of all particular things.',\n",
       "  'Free from desire, you realize the mystery.',\n",
       "  'Caught in desire, you see only the manifestations.',\n",
       "  'Yet mystery and manifestations',\n",
       "  'arise from the same source.',\n",
       "  'This source is called darkness.',\n",
       "  'Darkness within darkness.',\n",
       "  'The gateway to all understanding.'],\n",
       " ['When people see some things as beautiful,',\n",
       "  'other things become ugly.',\n",
       "  'When people see some things as good,',\n",
       "  'other things become bad.',\n",
       "  'Being and non-being create each other.',\n",
       "  'Difficult and easy support each other.',\n",
       "  'Long and short define each other.',\n",
       "  'High and low depend on each other.',\n",
       "  'Before and after follow each other.',\n",
       "  'Therefore the Master',\n",
       "  'acts without doing anything',\n",
       "  'and teaches without saying anything.',\n",
       "  'Things arise and she lets them come;',\n",
       "  'things disappear and she lets them go.',\n",
       "  'She has but doesn’t possess,',\n",
       "  'acts but doesn’t expect.',\n",
       "  'When her work is done, she forgets it.',\n",
       "  'That is why it lasts forever.'],\n",
       " ['If you overesteem great men,',\n",
       "  'people become powerless.',\n",
       "  'If you overvalue possessions,',\n",
       "  'people begin to steal.',\n",
       "  'The Master leads',\n",
       "  'by emptying people’s minds',\n",
       "  'and filling their cores,',\n",
       "  'by weakening their ambition',\n",
       "  'and toughening their resolve.',\n",
       "  'He helps people lose everything',\n",
       "  'they know, everything they desire,',\n",
       "  'and creates confusion',\n",
       "  'in those who think that they know.',\n",
       "  'Practice not-doing,',\n",
       "  'and everything will fall into place.'],\n",
       " ['The Tao is like a well:',\n",
       "  'used but never used up.',\n",
       "  'It is like the eternal void:',\n",
       "  'filled with infinite possibilities.',\n",
       "  'It is hidden but always present.',\n",
       "  'I don’t know who gave birth to it.',\n",
       "  'It is older than God.'],\n",
       " ['The Tao doesn’t take sides;',\n",
       "  'it gives birth to both good and evil.',\n",
       "  'The Master doesn’t take sides;',\n",
       "  'she welcomes both saints and sinners.',\n",
       "  'The Tao is like a bellows:',\n",
       "  'it is empty yet infinitely capable.',\n",
       "  'The more you use it, the more it produces;',\n",
       "  'the more you talk of it, the less you understand.',\n",
       "  'Hold on to the center.']]"
      ]
     },
     "execution_count": 53,
     "metadata": {},
     "output_type": "execute_result"
    }
   ],
   "source": [
    "translations['Mitchel_1988'][:5]"
   ]
  },
  {
   "cell_type": "markdown",
   "metadata": {},
   "source": [
    "All looks good. Now let's save this data so we can use it later"
   ]
  },
  {
   "cell_type": "code",
   "execution_count": 54,
   "metadata": {},
   "outputs": [],
   "source": [
    "with open('data/complete_translations.pkl', 'wb') as f:\n",
    "    pickle.dump(translations, f)"
   ]
  },
  {
   "cell_type": "code",
   "execution_count": null,
   "metadata": {},
   "outputs": [],
   "source": []
  }
 ],
 "metadata": {
  "kernelspec": {
   "display_name": "Python 3",
   "language": "python",
   "name": "python3"
  },
  "language_info": {
   "codemirror_mode": {
    "name": "ipython",
    "version": 3
   },
   "file_extension": ".py",
   "mimetype": "text/x-python",
   "name": "python",
   "nbconvert_exporter": "python",
   "pygments_lexer": "ipython3",
   "version": "3.6.4"
  }
 },
 "nbformat": 4,
 "nbformat_minor": 2
}
